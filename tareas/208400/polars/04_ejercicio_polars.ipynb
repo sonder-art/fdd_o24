{
 "cells": [
  {
   "cell_type": "markdown",
   "metadata": {},
   "source": [
    "<a target=\"_blank\" href=\"https://colab.research.google.com/github/sonder-art/fdd_o23/blob/main/codigo/polars/04_ejercicio_polars.ipynb\">\n",
    "  <img src=\"https://colab.research.google.com/assets/colab-badge.svg\" alt=\"Open In Colab\"/>\n",
    "</a>"
   ]
  },
  {
   "cell_type": "code",
   "execution_count": 2,
   "metadata": {},
   "outputs": [
    {
     "name": "stdout",
     "output_type": "stream",
     "text": [
      "Requirement already satisfied: polars in /home/gitpod/.pyenv/versions/3.12.6/lib/python3.12/site-packages (1.16.0)\n",
      "\n",
      "\u001b[1m[\u001b[0m\u001b[34;49mnotice\u001b[0m\u001b[1;39;49m]\u001b[0m\u001b[39;49m A new release of pip is available: \u001b[0m\u001b[31;49m24.2\u001b[0m\u001b[39;49m -> \u001b[0m\u001b[32;49m24.3.1\u001b[0m\n",
      "\u001b[1m[\u001b[0m\u001b[34;49mnotice\u001b[0m\u001b[1;39;49m]\u001b[0m\u001b[39;49m To update, run: \u001b[0m\u001b[32;49mpip install --upgrade pip\u001b[0m\n"
     ]
    }
   ],
   "source": [
    "! pip install polars"
   ]
  },
  {
   "cell_type": "code",
   "execution_count": 3,
   "metadata": {},
   "outputs": [],
   "source": [
    "import polars as pl\n",
    "import random\n",
    "import string\n"
   ]
  },
  {
   "cell_type": "markdown",
   "metadata": {},
   "source": [
    "# Generacion de Datos"
   ]
  },
  {
   "cell_type": "code",
   "execution_count": 4,
   "metadata": {},
   "outputs": [
    {
     "data": {
      "text/html": [
       "<div><style>\n",
       ".dataframe > thead > tr,\n",
       ".dataframe > tbody > tr {\n",
       "  text-align: right;\n",
       "  white-space: pre-wrap;\n",
       "}\n",
       "</style>\n",
       "<small>shape: (5, 6)</small><table border=\"1\" class=\"dataframe\"><thead><tr><th>id_venta</th><th>producto</th><th>cantidad</th><th>precio_unitario</th><th>fecha_venta</th><th>cliente_id</th></tr><tr><td>i64</td><td>str</td><td>i64</td><td>f64</td><td>object</td><td>i64</td></tr></thead><tbody><tr><td>1</td><td>&quot;nlloj&quot;</td><td>4</td><td>86.518592</td><td>2016-01-11 00:00:00.alias(&quot;datetime&quot;).strict_cast(Date).alias(&quot;date&quot;)</td><td>1699</td></tr><tr><td>2</td><td>&quot;aybip&quot;</td><td>6</td><td>58.404277</td><td>2012-07-16 00:00:00.alias(&quot;datetime&quot;).strict_cast(Date).alias(&quot;date&quot;)</td><td>4263</td></tr><tr><td>3</td><td>&quot;hjkps&quot;</td><td>7</td><td>48.286182</td><td>2012-07-15 00:00:00.alias(&quot;datetime&quot;).strict_cast(Date).alias(&quot;date&quot;)</td><td>1090</td></tr><tr><td>4</td><td>&quot;ojbxo&quot;</td><td>15</td><td>16.235841</td><td>2015-02-13 00:00:00.alias(&quot;datetime&quot;).strict_cast(Date).alias(&quot;date&quot;)</td><td>3877</td></tr><tr><td>5</td><td>&quot;opvvo&quot;</td><td>11</td><td>64.356533</td><td>2011-09-24 00:00:00.alias(&quot;datetime&quot;).strict_cast(Date).alias(&quot;date&quot;)</td><td>1208</td></tr></tbody></table></div>"
      ],
      "text/plain": [
       "shape: (5, 6)\n",
       "┌──────────┬──────────┬──────────┬─────────────────┬─────────────────────────────────┬────────────┐\n",
       "│ id_venta ┆ producto ┆ cantidad ┆ precio_unitario ┆ fecha_venta                     ┆ cliente_id │\n",
       "│ ---      ┆ ---      ┆ ---      ┆ ---             ┆ ---                             ┆ ---        │\n",
       "│ i64      ┆ str      ┆ i64      ┆ f64             ┆ object                          ┆ i64        │\n",
       "╞══════════╪══════════╪══════════╪═════════════════╪═════════════════════════════════╪════════════╡\n",
       "│ 1        ┆ nlloj    ┆ 4        ┆ 86.518592       ┆ 2016-01-11 00:00:00.alias(\"dat… ┆ 1699       │\n",
       "│ 2        ┆ aybip    ┆ 6        ┆ 58.404277       ┆ 2012-07-16 00:00:00.alias(\"dat… ┆ 4263       │\n",
       "│ 3        ┆ hjkps    ┆ 7        ┆ 48.286182       ┆ 2012-07-15 00:00:00.alias(\"dat… ┆ 1090       │\n",
       "│ 4        ┆ ojbxo    ┆ 15       ┆ 16.235841       ┆ 2015-02-13 00:00:00.alias(\"dat… ┆ 3877       │\n",
       "│ 5        ┆ opvvo    ┆ 11       ┆ 64.356533       ┆ 2011-09-24 00:00:00.alias(\"dat… ┆ 1208       │\n",
       "└──────────┴──────────┴──────────┴─────────────────┴─────────────────────────────────┴────────────┘"
      ]
     },
     "execution_count": 4,
     "metadata": {},
     "output_type": "execute_result"
    }
   ],
   "source": [
    "# Funciones auxiliares para generar datos\n",
    "def random_string(length=5):\n",
    "    letters = string.ascii_lowercase\n",
    "    return ''.join(random.choice(letters) for i in range(length))\n",
    "\n",
    "def generate_data(n=1000):\n",
    "    data = {\n",
    "        \"id_venta\": list(range(1, n + 1)),\n",
    "        \"producto\": [random_string() for _ in range(n)],\n",
    "        \"cantidad\": [random.randint(1, 20) for _ in range(n)],\n",
    "        \"precio_unitario\": [random.uniform(10, 100) for _ in range(n)],\n",
    "        \"fecha_venta\": [pl.date(random.randint(2010, 2022), random.randint(1, 12), random.randint(1, 28)) for _ in range(n)],\n",
    "        \"cliente_id\": [random.randint(1000, 5000) for _ in range(n)]\n",
    "    }\n",
    "    return pl.DataFrame(data)\n",
    "\n",
    "# Generar el DataFrame\n",
    "df = generate_data()\n",
    "df.head()"
   ]
  },
  {
   "cell_type": "markdown",
   "metadata": {},
   "source": [
    "# Limpieza de Datos"
   ]
  },
  {
   "cell_type": "markdown",
   "metadata": {},
   "source": [
    "Utilizando Polars en modo Lazy, realice las siguientes operaciones de limpieza y manipulación de datos:\n",
    "\n",
    "    1. `Filtrar` las ventas con cantidades menores a 5.\n",
    "    2. `Agregar` una nueva columna llamada total_venta, que sea el resultado de multiplicar cantidad por precio_unitario.\n",
    "    3. `Eliminar` la columna precio_unitario después de crear total_venta.\n",
    "    4. `Agrupar` los datos por producto y calcular el total vendido y la cantidad total vendida por producto.\n",
    "    5. `Ordenar` los resultados por el total vendido en orden descendente."
   ]
  },
  {
   "cell_type": "markdown",
   "metadata": {},
   "source": [
    "Todo esto lo debes de realizar en una sola linea de codigo"
   ]
  },
  {
   "cell_type": "code",
   "execution_count": 13,
   "metadata": {},
   "outputs": [
    {
     "name": "stdout",
     "output_type": "stream",
     "text": [
      "shape: (805, 3)\n",
      "┌──────────┬───────────────┬────────────────────────┐\n",
      "│ producto ┆ total_vendido ┆ cantidad_total_vendida │\n",
      "│ ---      ┆ ---           ┆ ---                    │\n",
      "│ str      ┆ f64           ┆ i64                    │\n",
      "╞══════════╪═══════════════╪════════════════════════╡\n",
      "│ cnyce    ┆ 1980.154894   ┆ 20                     │\n",
      "│ qguna    ┆ 1964.542583   ┆ 20                     │\n",
      "│ wmsja    ┆ 1962.30905    ┆ 20                     │\n",
      "│ msviy    ┆ 1955.266084   ┆ 20                     │\n",
      "│ jkztr    ┆ 1932.440729   ┆ 20                     │\n",
      "│ …        ┆ …             ┆ …                      │\n",
      "│ eigta    ┆ 83.577294     ┆ 8                      │\n",
      "│ zbukl    ┆ 78.887682     ┆ 6                      │\n",
      "│ ffusd    ┆ 75.276996     ┆ 7                      │\n",
      "│ rjrgs    ┆ 70.777219     ┆ 7                      │\n",
      "│ prsaw    ┆ 65.776784     ┆ 6                      │\n",
      "└──────────┴───────────────┴────────────────────────┘\n"
     ]
    }
   ],
   "source": [
    "df = df.lazy()\n",
    "# Realizar todas las operaciones de limpieza \n",
    "resultado = (\n",
    "    df\n",
    "    .filter(pl.col(\"cantidad\") >= 5)\n",
    "    .with_columns((pl.col(\"cantidad\") * pl.col(\"precio_unitario\")).alias(\"total_venta\"))\n",
    "   \n",
    "    .drop(\"precio_unitario\")\n",
    "    .group_by(\"producto\")\n",
    "    .agg([\n",
    "        pl.sum(\"total_venta\").alias(\"total_vendido\"),\n",
    "        pl.sum(\"cantidad\").alias(\"cantidad_total_vendida\"),\n",
    "        \n",
    "    ])\n",
    "    .sort(\"total_vendido\", descending = True)\n",
    ")\n",
    "\n",
    "  \n",
    "\n",
    "#mostrar los resultados\n",
    "result_df = resultado.collect()\n",
    "print(result_df)"
   ]
  },
  {
   "cell_type": "markdown",
   "metadata": {},
   "source": [
    "# Guarda el resultado en un archivo `parquet`"
   ]
  },
  {
   "cell_type": "markdown",
   "metadata": {},
   "source": [
    "Guarda el resultado en un archivo parquet que se llame `resultados.parquet`"
   ]
  },
  {
   "cell_type": "code",
   "execution_count": 14,
   "metadata": {},
   "outputs": [],
   "source": [
    "# Tu codigo aqui\n",
    "result_df = resultado.collect()\n",
    "\n",
    "# Guardar el DataFrame en un archivo Parquet\n",
    "result_df.write_parquet(\"result.parquet\")"
   ]
  },
  {
   "cell_type": "markdown",
   "metadata": {},
   "source": [
    "# Lee Parquet"
   ]
  },
  {
   "cell_type": "markdown",
   "metadata": {},
   "source": [
    "Crea codigo para leer en polars el archivo parquet"
   ]
  },
  {
   "cell_type": "code",
   "execution_count": 15,
   "metadata": {},
   "outputs": [
    {
     "name": "stdout",
     "output_type": "stream",
     "text": [
      "shape: (5, 3)\n",
      "┌──────────┬───────────────┬────────────────────────┐\n",
      "│ producto ┆ total_vendido ┆ cantidad_total_vendida │\n",
      "│ ---      ┆ ---           ┆ ---                    │\n",
      "│ str      ┆ f64           ┆ i64                    │\n",
      "╞══════════╪═══════════════╪════════════════════════╡\n",
      "│ cnyce    ┆ 1980.154894   ┆ 20                     │\n",
      "│ qguna    ┆ 1964.542583   ┆ 20                     │\n",
      "│ wmsja    ┆ 1962.30905    ┆ 20                     │\n",
      "│ msviy    ┆ 1955.266084   ┆ 20                     │\n",
      "│ jkztr    ┆ 1932.440729   ┆ 20                     │\n",
      "└──────────┴───────────────┴────────────────────────┘\n"
     ]
    }
   ],
   "source": [
    "# Tu codigo aqui\n",
    "df = pl.read_parquet(\"result.parquet\")\n",
    "\n",
    "# Mostrar las primeras filas del DataFrame\n",
    "print(df.head())"
   ]
  }
 ],
 "metadata": {
  "kernelspec": {
   "display_name": "Python 3",
   "language": "python",
   "name": "python3"
  },
  "language_info": {
   "codemirror_mode": {
    "name": "ipython",
    "version": 3
   },
   "file_extension": ".py",
   "mimetype": "text/x-python",
   "name": "python",
   "nbconvert_exporter": "python",
   "pygments_lexer": "ipython3",
   "version": "3.12.6"
  }
 },
 "nbformat": 4,
 "nbformat_minor": 2
}
