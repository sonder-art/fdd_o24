{
 "cells": [
  {
   "cell_type": "code",
   "execution_count": 1,
   "metadata": {},
   "outputs": [
    {
     "name": "stdout",
     "output_type": "stream",
     "text": [
      "Collecting polars\n",
      "  Using cached polars-1.16.0-cp39-abi3-manylinux_2_17_x86_64.manylinux2014_x86_64.whl.metadata (14 kB)\n",
      "Using cached polars-1.16.0-cp39-abi3-manylinux_2_17_x86_64.manylinux2014_x86_64.whl (36.0 MB)\n",
      "Installing collected packages: polars\n",
      "Successfully installed polars-1.16.0\n",
      "\n",
      "\u001b[1m[\u001b[0m\u001b[34;49mnotice\u001b[0m\u001b[1;39;49m]\u001b[0m\u001b[39;49m A new release of pip is available: \u001b[0m\u001b[31;49m24.2\u001b[0m\u001b[39;49m -> \u001b[0m\u001b[32;49m24.3.1\u001b[0m\n",
      "\u001b[1m[\u001b[0m\u001b[34;49mnotice\u001b[0m\u001b[1;39;49m]\u001b[0m\u001b[39;49m To update, run: \u001b[0m\u001b[32;49mpip install --upgrade pip\u001b[0m\n",
      "Collecting numpy\n",
      "  Using cached numpy-2.1.3-cp312-cp312-manylinux_2_17_x86_64.manylinux2014_x86_64.whl.metadata (62 kB)\n",
      "Using cached numpy-2.1.3-cp312-cp312-manylinux_2_17_x86_64.manylinux2014_x86_64.whl (16.0 MB)\n",
      "Installing collected packages: numpy\n",
      "Successfully installed numpy-2.1.3\n",
      "\n",
      "\u001b[1m[\u001b[0m\u001b[34;49mnotice\u001b[0m\u001b[1;39;49m]\u001b[0m\u001b[39;49m A new release of pip is available: \u001b[0m\u001b[31;49m24.2\u001b[0m\u001b[39;49m -> \u001b[0m\u001b[32;49m24.3.1\u001b[0m\n",
      "\u001b[1m[\u001b[0m\u001b[34;49mnotice\u001b[0m\u001b[1;39;49m]\u001b[0m\u001b[39;49m To update, run: \u001b[0m\u001b[32;49mpip install --upgrade pip\u001b[0m\n"
     ]
    }
   ],
   "source": [
    "! pip install polars\n",
    "! pip install numpy"
   ]
  },
  {
   "cell_type": "code",
   "execution_count": 2,
   "metadata": {},
   "outputs": [],
   "source": [
    "import polars as pl\n",
    "import numpy as np\n",
    "import random\n",
    "from datetime import datetime, timedelta"
   ]
  },
  {
   "cell_type": "markdown",
   "metadata": {},
   "source": [
    "# Descripcion"
   ]
  },
  {
   "cell_type": "markdown",
   "metadata": {},
   "source": [
    "Los datos son notificaciones de dispositivos GPS en Mexico. En promedio generan notificaciones automatizadas cada 5 minutos si el carro esta encendido, y 30 si esta apagado.  \n",
    "\n",
    "Cada notificacion esta acompannada de un evento de lo que esta ocurriendo, y trae la latitud y longitud.  \n",
    "\n",
    "El objetico es predecir si un vehiculo esta siendo robado de acuerdo a sus notificaciones, por lo que el primer paso seria limpiar datos y hacer ingenieria de variables.\n",
    "\n",
    "Trata de hacerlo **lazy** si puedes."
   ]
  },
  {
   "cell_type": "code",
   "execution_count": 3,
   "metadata": {},
   "outputs": [],
   "source": [
    "def generate_dummy_data(num_cars, start_time, end_time, working_hours_interval, non_working_hours_interval):\n",
    "    data = []\n",
    "\n",
    "    # Define the latitude and longitude ranges for Mexico\n",
    "    min_latitude, max_latitude = 14.5388, 32.7186\n",
    "    min_longitude, max_longitude = -118.4662, -86.7104\n",
    "\n",
    "    for car_id in range(num_cars):\n",
    "        current_time = start_time\n",
    "\n",
    "        # Generate random initial latitude and longitude for each car\n",
    "        latitude = random.uniform(min_latitude, max_latitude)\n",
    "        longitude = random.uniform(min_longitude, max_longitude)\n",
    "\n",
    "        while current_time < end_time:\n",
    "            if current_time.weekday() < 5 and 9 <= current_time.hour < 17:\n",
    "                # Working hours (Monday to Friday, 9 AM to 5 PM)\n",
    "                interval = working_hours_interval\n",
    "            else:\n",
    "                # Non-working hours\n",
    "                interval = non_working_hours_interval\n",
    "\n",
    "            # Generate notification with 99% probability\n",
    "            if random.random() < 0.99:\n",
    "                notification = random.choice([\"low_fuel\", \"tire_pressure\", \"engine_check\", None])\n",
    "                data.append((f\"car_{car_id}\", current_time.isoformat(), latitude, longitude, notification))\n",
    "\n",
    "            # Generate additional notifications between intervals\n",
    "            while True:\n",
    "                additional_interval = random.expovariate(1 / (interval / 2))\n",
    "                additional_time = current_time + timedelta(minutes=additional_interval)\n",
    "                if additional_time >= current_time + timedelta(minutes=interval):\n",
    "                    break\n",
    "                notification = random.choice([\"low_fuel\", \"tire_pressure\", \"engine_check\", None])\n",
    "                data.append((f\"car_{car_id}\", additional_time.isoformat(), latitude, longitude, notification))\n",
    "\n",
    "            # Update latitude and longitude for car movement\n",
    "            latitude += random.uniform(-0.01, 0.01)\n",
    "            longitude += random.uniform(-0.01, 0.01)\n",
    "\n",
    "            # Check if the car is among the 1% that can have 100 notifications within 5 minutes\n",
    "            if random.random() < 0.01:\n",
    "                burst_start_time = current_time + timedelta(minutes=random.uniform(0, interval))\n",
    "                burst_end_time = burst_start_time + timedelta(minutes=5)\n",
    "                while current_time < burst_end_time:\n",
    "                    notification = random.choice([\"low_fuel\", \"tire_pressure\", \"engine_check\", None])\n",
    "                    data.append((f\"car_{car_id}\", current_time.isoformat(), latitude, longitude, notification))\n",
    "                    current_time += timedelta(seconds=random.uniform(1, 10))\n",
    "\n",
    "            current_time += timedelta(minutes=interval)\n",
    "\n",
    "    # Create a Polars DataFrame from the generated data\n",
    "    df = pl.DataFrame(\n",
    "        {\n",
    "            \"car_id\": [record[0] for record in data],\n",
    "            \"timestamp\": [record[1] for record in data],\n",
    "            \"latitude\": [record[2] for record in data],\n",
    "            \"longitude\": [record[3] for record in data],\n",
    "            \"notification\": [record[4] for record in data],\n",
    "        }\n",
    "    )\n",
    "\n",
    "    return df.lazy()"
   ]
  },
  {
   "cell_type": "code",
   "execution_count": 4,
   "metadata": {},
   "outputs": [
    {
     "name": "stdout",
     "output_type": "stream",
     "text": [
      "naive plan: (run LazyFrame.explain(optimized=True) to see the optimized plan)\n",
      "\n",
      "SLICE[offset: 0, len: 5]\n",
      "  DF [\"car_id\", \"timestamp\", \"latitude\", \"longitude\"]; PROJECT */5 COLUMNS; SELECTION: None\n"
     ]
    }
   ],
   "source": [
    "num_cars = 1000\n",
    "start_time = datetime(2023, 1, 1, 0, 0, 0)  # Start of the week\n",
    "end_time = start_time + timedelta(weeks=1)  # End of the week\n",
    "working_hours_interval = 5  # Interval of 5 minutes during working hours\n",
    "non_working_hours_interval = 30  # Interval of 30 minutes during non-working hours\n",
    "\n",
    "# Generate the dummy data\n",
    "data = generate_dummy_data(num_cars, start_time, end_time, working_hours_interval, non_working_hours_interval)\n",
    "\n",
    "# Print the first few rows of the generated data\n",
    "print(data.head())"
   ]
  },
  {
   "cell_type": "markdown",
   "metadata": {},
   "source": [
    "## Limpieza de datos"
   ]
  },
  {
   "cell_type": "markdown",
   "metadata": {},
   "source": [
    "### Timestamp"
   ]
  },
  {
   "cell_type": "markdown",
   "metadata": {},
   "source": [
    "Convierte el `timestamp` que actualmente es string a formato de tiempo en polars"
   ]
  },
  {
   "cell_type": "code",
   "execution_count": 5,
   "metadata": {},
   "outputs": [
    {
     "name": "stderr",
     "output_type": "stream",
     "text": [
      "/tmp/ipykernel_1284/421030682.py:3: ChronoFormatWarning: Detected the pattern `.%f` in the chrono format string. This pattern should not be used to parse values after a decimal point. Use `%.f` instead. See the full specification: https://docs.rs/chrono/latest/chrono/format/strftime\n",
      "  .str.strptime(pl.Datetime, format=\"%Y-%m-%dT%H:%M:%S.%f\", strict=False)\n"
     ]
    }
   ],
   "source": [
    "data = data.with_columns(\n",
    "    pl.col(\"timestamp\")\n",
    "    .str.strptime(pl.Datetime, format=\"%Y-%m-%dT%H:%M:%S.%f\", strict=False)\n",
    "    .alias(\"timestamp\")\n",
    ")"
   ]
  },
  {
   "cell_type": "code",
   "execution_count": 6,
   "metadata": {},
   "outputs": [
    {
     "data": {
      "text/html": [
       "<div><style>\n",
       ".dataframe > thead > tr,\n",
       ".dataframe > tbody > tr {\n",
       "  text-align: right;\n",
       "  white-space: pre-wrap;\n",
       "}\n",
       "</style>\n",
       "<small>shape: (6_319_171, 5)</small><table border=\"1\" class=\"dataframe\"><thead><tr><th>car_id</th><th>timestamp</th><th>latitude</th><th>longitude</th><th>notification</th></tr><tr><td>str</td><td>datetime[μs]</td><td>f64</td><td>f64</td><td>str</td></tr></thead><tbody><tr><td>&quot;car_0&quot;</td><td>null</td><td>23.733188</td><td>-94.23376</td><td>&quot;tire_pressure&quot;</td></tr><tr><td>&quot;car_0&quot;</td><td>2023-01-01 00:27:45.000288</td><td>23.733188</td><td>-94.23376</td><td>null</td></tr><tr><td>&quot;car_0&quot;</td><td>2023-01-01 00:00:05.000282</td><td>23.733188</td><td>-94.23376</td><td>&quot;low_fuel&quot;</td></tr><tr><td>&quot;car_0&quot;</td><td>2023-01-01 00:11:23.000597</td><td>23.733188</td><td>-94.23376</td><td>&quot;low_fuel&quot;</td></tr><tr><td>&quot;car_0&quot;</td><td>null</td><td>23.727644</td><td>-94.233698</td><td>&quot;engine_check&quot;</td></tr><tr><td>&hellip;</td><td>&hellip;</td><td>&hellip;</td><td>&hellip;</td><td>&hellip;</td></tr><tr><td>&quot;car_999&quot;</td><td>2023-01-08 00:01:36.000407</td><td>24.033558</td><td>-114.110391</td><td>&quot;engine_check&quot;</td></tr><tr><td>&quot;car_999&quot;</td><td>2023-01-08 00:01:43.000543</td><td>24.033558</td><td>-114.110391</td><td>&quot;low_fuel&quot;</td></tr><tr><td>&quot;car_999&quot;</td><td>2023-01-08 00:01:51.000490</td><td>24.033558</td><td>-114.110391</td><td>&quot;low_fuel&quot;</td></tr><tr><td>&quot;car_999&quot;</td><td>2023-01-08 00:02:00.000103</td><td>24.033558</td><td>-114.110391</td><td>&quot;engine_check&quot;</td></tr><tr><td>&quot;car_999&quot;</td><td>2023-01-08 00:02:05.000458</td><td>24.033558</td><td>-114.110391</td><td>&quot;engine_check&quot;</td></tr></tbody></table></div>"
      ],
      "text/plain": [
       "shape: (6_319_171, 5)\n",
       "┌─────────┬────────────────────────────┬───────────┬─────────────┬───────────────┐\n",
       "│ car_id  ┆ timestamp                  ┆ latitude  ┆ longitude   ┆ notification  │\n",
       "│ ---     ┆ ---                        ┆ ---       ┆ ---         ┆ ---           │\n",
       "│ str     ┆ datetime[μs]               ┆ f64       ┆ f64         ┆ str           │\n",
       "╞═════════╪════════════════════════════╪═══════════╪═════════════╪═══════════════╡\n",
       "│ car_0   ┆ null                       ┆ 23.733188 ┆ -94.23376   ┆ tire_pressure │\n",
       "│ car_0   ┆ 2023-01-01 00:27:45.000288 ┆ 23.733188 ┆ -94.23376   ┆ null          │\n",
       "│ car_0   ┆ 2023-01-01 00:00:05.000282 ┆ 23.733188 ┆ -94.23376   ┆ low_fuel      │\n",
       "│ car_0   ┆ 2023-01-01 00:11:23.000597 ┆ 23.733188 ┆ -94.23376   ┆ low_fuel      │\n",
       "│ car_0   ┆ null                       ┆ 23.727644 ┆ -94.233698  ┆ engine_check  │\n",
       "│ …       ┆ …                          ┆ …         ┆ …           ┆ …             │\n",
       "│ car_999 ┆ 2023-01-08 00:01:36.000407 ┆ 24.033558 ┆ -114.110391 ┆ engine_check  │\n",
       "│ car_999 ┆ 2023-01-08 00:01:43.000543 ┆ 24.033558 ┆ -114.110391 ┆ low_fuel      │\n",
       "│ car_999 ┆ 2023-01-08 00:01:51.000490 ┆ 24.033558 ┆ -114.110391 ┆ low_fuel      │\n",
       "│ car_999 ┆ 2023-01-08 00:02:00.000103 ┆ 24.033558 ┆ -114.110391 ┆ engine_check  │\n",
       "│ car_999 ┆ 2023-01-08 00:02:05.000458 ┆ 24.033558 ┆ -114.110391 ┆ engine_check  │\n",
       "└─────────┴────────────────────────────┴───────────┴─────────────┴───────────────┘"
      ]
     },
     "execution_count": 6,
     "metadata": {},
     "output_type": "execute_result"
    }
   ],
   "source": [
    "data.collect()"
   ]
  },
  {
   "cell_type": "markdown",
   "metadata": {},
   "source": [
    "### Ingenieria de variables"
   ]
  },
  {
   "cell_type": "markdown",
   "metadata": {},
   "source": [
    "Dado que va a entrar a un modelo de machine learning es encesario que todas las variables sean numericas, y esten en formnato tidy. Cada observacion en una fila, y cada variable en una columna. Por lo tanto se decidio crear estadisticos y agregar los datos a intervalos uniformes de `x` minutos.  \n",
    "\n",
    "Por ejemplo, colapsar toda la informacion que ocurrion en el intervalo, como el numero de notificaciones en esos 5 minutos, el promedio entre notificaciones, y el tipo de notificaciones."
   ]
  },
  {
   "cell_type": "markdown",
   "metadata": {},
   "source": [
    "Existen varias formas de hacer esto, puedes hacerlo con `group_by` primero para crear las nuevas variables, o `group_by` (`rolling`, `dynamic`) usando operaciones sobre listas. Utiliza claude o chat_gpt"
   ]
  },
  {
   "cell_type": "markdown",
   "metadata": {},
   "source": [
    "1. Crea una nueva variable que compute la diferencia de tiempo entre notificaciones del mismo vehiculo. Piensa como lo vas a hacer. Llama a esta variable `notification_time`\n",
    "   \n"
   ]
  },
  {
   "cell_type": "code",
   "execution_count": 7,
   "metadata": {},
   "outputs": [],
   "source": [
    "data = data.with_columns(\n",
    "    pl.col(\"timestamp\").diff().over(\"car_id\").alias(\"notification_time\")\n",
    " )"
   ]
  },
  {
   "cell_type": "code",
   "execution_count": 8,
   "metadata": {},
   "outputs": [
    {
     "data": {
      "text/html": [
       "<div><style>\n",
       ".dataframe > thead > tr,\n",
       ".dataframe > tbody > tr {\n",
       "  text-align: right;\n",
       "  white-space: pre-wrap;\n",
       "}\n",
       "</style>\n",
       "<small>shape: (6_319_171, 6)</small><table border=\"1\" class=\"dataframe\"><thead><tr><th>car_id</th><th>timestamp</th><th>latitude</th><th>longitude</th><th>notification</th><th>notification_time</th></tr><tr><td>str</td><td>datetime[μs]</td><td>f64</td><td>f64</td><td>str</td><td>duration[μs]</td></tr></thead><tbody><tr><td>&quot;car_0&quot;</td><td>null</td><td>23.733188</td><td>-94.23376</td><td>&quot;tire_pressure&quot;</td><td>null</td></tr><tr><td>&quot;car_0&quot;</td><td>2023-01-01 00:27:45.000288</td><td>23.733188</td><td>-94.23376</td><td>null</td><td>null</td></tr><tr><td>&quot;car_0&quot;</td><td>2023-01-01 00:00:05.000282</td><td>23.733188</td><td>-94.23376</td><td>&quot;low_fuel&quot;</td><td>-27m -40s -6µs</td></tr><tr><td>&quot;car_0&quot;</td><td>2023-01-01 00:11:23.000597</td><td>23.733188</td><td>-94.23376</td><td>&quot;low_fuel&quot;</td><td>11m 18s 315µs</td></tr><tr><td>&quot;car_0&quot;</td><td>null</td><td>23.727644</td><td>-94.233698</td><td>&quot;engine_check&quot;</td><td>null</td></tr><tr><td>&hellip;</td><td>&hellip;</td><td>&hellip;</td><td>&hellip;</td><td>&hellip;</td><td>&hellip;</td></tr><tr><td>&quot;car_999&quot;</td><td>2023-01-08 00:01:36.000407</td><td>24.033558</td><td>-114.110391</td><td>&quot;engine_check&quot;</td><td>4s 999415µs</td></tr><tr><td>&quot;car_999&quot;</td><td>2023-01-08 00:01:43.000543</td><td>24.033558</td><td>-114.110391</td><td>&quot;low_fuel&quot;</td><td>7s 136µs</td></tr><tr><td>&quot;car_999&quot;</td><td>2023-01-08 00:01:51.000490</td><td>24.033558</td><td>-114.110391</td><td>&quot;low_fuel&quot;</td><td>7s 999947µs</td></tr><tr><td>&quot;car_999&quot;</td><td>2023-01-08 00:02:00.000103</td><td>24.033558</td><td>-114.110391</td><td>&quot;engine_check&quot;</td><td>8s 999613µs</td></tr><tr><td>&quot;car_999&quot;</td><td>2023-01-08 00:02:05.000458</td><td>24.033558</td><td>-114.110391</td><td>&quot;engine_check&quot;</td><td>5s 355µs</td></tr></tbody></table></div>"
      ],
      "text/plain": [
       "shape: (6_319_171, 6)\n",
       "┌─────────┬─────────────────┬───────────┬─────────────┬───────────────┬───────────────────┐\n",
       "│ car_id  ┆ timestamp       ┆ latitude  ┆ longitude   ┆ notification  ┆ notification_time │\n",
       "│ ---     ┆ ---             ┆ ---       ┆ ---         ┆ ---           ┆ ---               │\n",
       "│ str     ┆ datetime[μs]    ┆ f64       ┆ f64         ┆ str           ┆ duration[μs]      │\n",
       "╞═════════╪═════════════════╪═══════════╪═════════════╪═══════════════╪═══════════════════╡\n",
       "│ car_0   ┆ null            ┆ 23.733188 ┆ -94.23376   ┆ tire_pressure ┆ null              │\n",
       "│ car_0   ┆ 2023-01-01      ┆ 23.733188 ┆ -94.23376   ┆ null          ┆ null              │\n",
       "│         ┆ 00:27:45.000288 ┆           ┆             ┆               ┆                   │\n",
       "│ car_0   ┆ 2023-01-01      ┆ 23.733188 ┆ -94.23376   ┆ low_fuel      ┆ -27m -40s -6µs    │\n",
       "│         ┆ 00:00:05.000282 ┆           ┆             ┆               ┆                   │\n",
       "│ car_0   ┆ 2023-01-01      ┆ 23.733188 ┆ -94.23376   ┆ low_fuel      ┆ 11m 18s 315µs     │\n",
       "│         ┆ 00:11:23.000597 ┆           ┆             ┆               ┆                   │\n",
       "│ car_0   ┆ null            ┆ 23.727644 ┆ -94.233698  ┆ engine_check  ┆ null              │\n",
       "│ …       ┆ …               ┆ …         ┆ …           ┆ …             ┆ …                 │\n",
       "│ car_999 ┆ 2023-01-08      ┆ 24.033558 ┆ -114.110391 ┆ engine_check  ┆ 4s 999415µs       │\n",
       "│         ┆ 00:01:36.000407 ┆           ┆             ┆               ┆                   │\n",
       "│ car_999 ┆ 2023-01-08      ┆ 24.033558 ┆ -114.110391 ┆ low_fuel      ┆ 7s 136µs          │\n",
       "│         ┆ 00:01:43.000543 ┆           ┆             ┆               ┆                   │\n",
       "│ car_999 ┆ 2023-01-08      ┆ 24.033558 ┆ -114.110391 ┆ low_fuel      ┆ 7s 999947µs       │\n",
       "│         ┆ 00:01:51.000490 ┆           ┆             ┆               ┆                   │\n",
       "│ car_999 ┆ 2023-01-08      ┆ 24.033558 ┆ -114.110391 ┆ engine_check  ┆ 8s 999613µs       │\n",
       "│         ┆ 00:02:00.000103 ┆           ┆             ┆               ┆                   │\n",
       "│ car_999 ┆ 2023-01-08      ┆ 24.033558 ┆ -114.110391 ┆ engine_check  ┆ 5s 355µs          │\n",
       "│         ┆ 00:02:05.000458 ┆           ┆             ┆               ┆                   │\n",
       "└─────────┴─────────────────┴───────────┴─────────────┴───────────────┴───────────────────┘"
      ]
     },
     "execution_count": 8,
     "metadata": {},
     "output_type": "execute_result"
    }
   ],
   "source": [
    "data.collect()"
   ]
  },
  {
   "cell_type": "markdown",
   "metadata": {},
   "source": [
    "2. Crea una nueva variable que compute la distancia que viajo el vehiculo desde la ultima notificacion. Llamala `distance`"
   ]
  },
  {
   "cell_type": "code",
   "execution_count": 9,
   "metadata": {},
   "outputs": [
    {
     "data": {
      "text/html": [
       "<div><style>\n",
       ".dataframe > thead > tr,\n",
       ".dataframe > tbody > tr {\n",
       "  text-align: right;\n",
       "  white-space: pre-wrap;\n",
       "}\n",
       "</style>\n",
       "<small>shape: (6_319_171, 7)</small><table border=\"1\" class=\"dataframe\"><thead><tr><th>car_id</th><th>timestamp</th><th>latitude</th><th>longitude</th><th>notification</th><th>notification_time</th><th>distance</th></tr><tr><td>str</td><td>datetime[μs]</td><td>f64</td><td>f64</td><td>str</td><td>duration[μs]</td><td>f64</td></tr></thead><tbody><tr><td>&quot;car_0&quot;</td><td>null</td><td>23.733188</td><td>-94.23376</td><td>&quot;tire_pressure&quot;</td><td>null</td><td>0.0</td></tr><tr><td>&quot;car_0&quot;</td><td>2023-01-01 00:27:45.000288</td><td>23.733188</td><td>-94.23376</td><td>null</td><td>null</td><td>0.0</td></tr><tr><td>&quot;car_0&quot;</td><td>2023-01-01 00:00:05.000282</td><td>23.733188</td><td>-94.23376</td><td>&quot;low_fuel&quot;</td><td>-27m -40s -6µs</td><td>0.0</td></tr><tr><td>&quot;car_0&quot;</td><td>2023-01-01 00:11:23.000597</td><td>23.733188</td><td>-94.23376</td><td>&quot;low_fuel&quot;</td><td>11m 18s 315µs</td><td>1.233058</td></tr><tr><td>&quot;car_0&quot;</td><td>null</td><td>23.727644</td><td>-94.233698</td><td>&quot;engine_check&quot;</td><td>null</td><td>0.0</td></tr><tr><td>&hellip;</td><td>&hellip;</td><td>&hellip;</td><td>&hellip;</td><td>&hellip;</td><td>&hellip;</td><td>&hellip;</td></tr><tr><td>&quot;car_999&quot;</td><td>2023-01-08 00:01:36.000407</td><td>24.033558</td><td>-114.110391</td><td>&quot;engine_check&quot;</td><td>4s 999415µs</td><td>0.0</td></tr><tr><td>&quot;car_999&quot;</td><td>2023-01-08 00:01:43.000543</td><td>24.033558</td><td>-114.110391</td><td>&quot;low_fuel&quot;</td><td>7s 136µs</td><td>0.0</td></tr><tr><td>&quot;car_999&quot;</td><td>2023-01-08 00:01:51.000490</td><td>24.033558</td><td>-114.110391</td><td>&quot;low_fuel&quot;</td><td>7s 999947µs</td><td>0.0</td></tr><tr><td>&quot;car_999&quot;</td><td>2023-01-08 00:02:00.000103</td><td>24.033558</td><td>-114.110391</td><td>&quot;engine_check&quot;</td><td>8s 999613µs</td><td>0.0</td></tr><tr><td>&quot;car_999&quot;</td><td>2023-01-08 00:02:05.000458</td><td>24.033558</td><td>-114.110391</td><td>&quot;engine_check&quot;</td><td>5s 355µs</td><td>null</td></tr></tbody></table></div>"
      ],
      "text/plain": [
       "shape: (6_319_171, 7)\n",
       "┌─────────┬─────────────────┬───────────┬─────────────┬───────────────┬─────────────────┬──────────┐\n",
       "│ car_id  ┆ timestamp       ┆ latitude  ┆ longitude   ┆ notification  ┆ notification_ti ┆ distance │\n",
       "│ ---     ┆ ---             ┆ ---       ┆ ---         ┆ ---           ┆ me              ┆ ---      │\n",
       "│ str     ┆ datetime[μs]    ┆ f64       ┆ f64         ┆ str           ┆ ---             ┆ f64      │\n",
       "│         ┆                 ┆           ┆             ┆               ┆ duration[μs]    ┆          │\n",
       "╞═════════╪═════════════════╪═══════════╪═════════════╪═══════════════╪═════════════════╪══════════╡\n",
       "│ car_0   ┆ null            ┆ 23.733188 ┆ -94.23376   ┆ tire_pressure ┆ null            ┆ 0.0      │\n",
       "│ car_0   ┆ 2023-01-01      ┆ 23.733188 ┆ -94.23376   ┆ null          ┆ null            ┆ 0.0      │\n",
       "│         ┆ 00:27:45.000288 ┆           ┆             ┆               ┆                 ┆          │\n",
       "│ car_0   ┆ 2023-01-01      ┆ 23.733188 ┆ -94.23376   ┆ low_fuel      ┆ -27m -40s -6µs  ┆ 0.0      │\n",
       "│         ┆ 00:00:05.000282 ┆           ┆             ┆               ┆                 ┆          │\n",
       "│ car_0   ┆ 2023-01-01      ┆ 23.733188 ┆ -94.23376   ┆ low_fuel      ┆ 11m 18s 315µs   ┆ 1.233058 │\n",
       "│         ┆ 00:11:23.000597 ┆           ┆             ┆               ┆                 ┆          │\n",
       "│ car_0   ┆ null            ┆ 23.727644 ┆ -94.233698  ┆ engine_check  ┆ null            ┆ 0.0      │\n",
       "│ …       ┆ …               ┆ …         ┆ …           ┆ …             ┆ …               ┆ …        │\n",
       "│ car_999 ┆ 2023-01-08      ┆ 24.033558 ┆ -114.110391 ┆ engine_check  ┆ 4s 999415µs     ┆ 0.0      │\n",
       "│         ┆ 00:01:36.000407 ┆           ┆             ┆               ┆                 ┆          │\n",
       "│ car_999 ┆ 2023-01-08      ┆ 24.033558 ┆ -114.110391 ┆ low_fuel      ┆ 7s 136µs        ┆ 0.0      │\n",
       "│         ┆ 00:01:43.000543 ┆           ┆             ┆               ┆                 ┆          │\n",
       "│ car_999 ┆ 2023-01-08      ┆ 24.033558 ┆ -114.110391 ┆ low_fuel      ┆ 7s 999947µs     ┆ 0.0      │\n",
       "│         ┆ 00:01:51.000490 ┆           ┆             ┆               ┆                 ┆          │\n",
       "│ car_999 ┆ 2023-01-08      ┆ 24.033558 ┆ -114.110391 ┆ engine_check  ┆ 8s 999613µs     ┆ 0.0      │\n",
       "│         ┆ 00:02:00.000103 ┆           ┆             ┆               ┆                 ┆          │\n",
       "│ car_999 ┆ 2023-01-08      ┆ 24.033558 ┆ -114.110391 ┆ engine_check  ┆ 5s 355µs        ┆ null     │\n",
       "│         ┆ 00:02:05.000458 ┆           ┆             ┆               ┆                 ┆          │\n",
       "└─────────┴─────────────────┴───────────┴─────────────┴───────────────┴─────────────────┴──────────┘"
      ]
     },
     "execution_count": 9,
     "metadata": {},
     "output_type": "execute_result"
    }
   ],
   "source": [
    "# Radius of Earth in kilometers\n",
    "R = 6371.0\n",
    "\n",
    "# Convert latitude and longitude columns to radians\n",
    "data = data.with_columns([\n",
    "    (pl.col(\"latitude\") * np.pi / 180).alias(\"lat_rad\"),\n",
    "    (pl.col(\"longitude\") * np.pi / 180).alias(\"lon_rad\"),\n",
    "])\n",
    "\n",
    "# Calculate Haversine distance with correct usage of sin, cos, and arcsin as chained methods\n",
    "data = data.with_columns([\n",
    "    (2 * R * (\n",
    "        (pl.col(\"lat_rad\").shift(-1) - pl.col(\"lat_rad\")).sin().pow(2) +\n",
    "        (pl.col(\"lat_rad\").cos() * pl.col(\"lat_rad\").shift(-1).cos() *\n",
    "         (pl.col(\"lon_rad\").shift(-1) - pl.col(\"lon_rad\")).sin().pow(2))\n",
    "    ).sqrt().arcsin()).over(\"car_id\").alias(\"distance\")\n",
    "])\n",
    "\n",
    "# Drop the intermediate columns if no longer needed\n",
    "data = data.drop([\"lat_rad\", \"lon_rad\"])\n",
    "\n",
    "# Collect and display the results\n",
    "data_df = data.collect()\n",
    "data_df"
   ]
  },
  {
   "cell_type": "markdown",
   "metadata": {},
   "source": [
    "3. Crea intervalos de `x` minutos por carro. Como el numero de notificaciones en esos intervalos no es uniforme tienes que buscar funciones de polars especificas, pero ademas tienen que ser por vehiculo, pues tienen que ser del mismo. Revisa las funciones de `group_by` `dynamic` y `rolling`.\n",
    "   1. Computa la media, mediana, varianza, max y min de `notification_time` los intervalos de `x` minutos\n",
    "   2. Computa la media, mediana, varianza, max y min de `distance`\n"
   ]
  },
  {
   "cell_type": "code",
   "execution_count": 10,
   "metadata": {},
   "outputs": [
    {
     "name": "stdout",
     "output_type": "stream",
     "text": [
      "Rows with null timestamps: 1\n"
     ]
    }
   ],
   "source": [
    "# Step 1: Fill nulls, ensuring `notification_time` stays as `duration[μs]`\n",
    "data = data.with_columns([\n",
    "    pl.col(\"timestamp\").fill_null(strategy=\"forward\").cast(pl.Datetime)\n",
    "])\n",
    "\n",
    "# Check if there are any remaining null values in 'timestamp'\n",
    "null_timestamps = data.filter(pl.col(\"timestamp\").is_null()).collect()\n",
    "print(\"Rows with null timestamps:\", null_timestamps.shape[0])"
   ]
  },
  {
   "cell_type": "code",
   "execution_count": 11,
   "metadata": {},
   "outputs": [],
   "source": [
    "data = data.with_columns([\n",
    "    pl.col(\"timestamp\").fill_null(strategy=\"backward\").cast(pl.Datetime)\n",
    "])"
   ]
  },
  {
   "cell_type": "code",
   "execution_count": 12,
   "metadata": {},
   "outputs": [
    {
     "name": "stdout",
     "output_type": "stream",
     "text": [
      "Rows with null timestamps: 0\n"
     ]
    },
    {
     "data": {
      "text/html": [
       "<div><style>\n",
       ".dataframe > thead > tr,\n",
       ".dataframe > tbody > tr {\n",
       "  text-align: right;\n",
       "  white-space: pre-wrap;\n",
       "}\n",
       "</style>\n",
       "<small>shape: (0, 7)</small><table border=\"1\" class=\"dataframe\"><thead><tr><th>car_id</th><th>timestamp</th><th>latitude</th><th>longitude</th><th>notification</th><th>notification_time</th><th>distance</th></tr><tr><td>str</td><td>datetime[μs]</td><td>f64</td><td>f64</td><td>str</td><td>duration[μs]</td><td>f64</td></tr></thead><tbody></tbody></table></div>"
      ],
      "text/plain": [
       "shape: (0, 7)\n",
       "┌────────┬──────────────┬──────────┬───────────┬──────────────┬───────────────────┬──────────┐\n",
       "│ car_id ┆ timestamp    ┆ latitude ┆ longitude ┆ notification ┆ notification_time ┆ distance │\n",
       "│ ---    ┆ ---          ┆ ---      ┆ ---       ┆ ---          ┆ ---               ┆ ---      │\n",
       "│ str    ┆ datetime[μs] ┆ f64      ┆ f64       ┆ str          ┆ duration[μs]      ┆ f64      │\n",
       "╞════════╪══════════════╪══════════╪═══════════╪══════════════╪═══════════════════╪══════════╡\n",
       "└────────┴──────────────┴──────────┴───────────┴──────────────┴───────────────────┴──────────┘"
      ]
     },
     "execution_count": 12,
     "metadata": {},
     "output_type": "execute_result"
    }
   ],
   "source": [
    "null_timestamps = data.filter(pl.col(\"timestamp\").is_null()).collect()\n",
    "print(\"Rows with null timestamps:\", null_timestamps.shape[0])\n",
    "null_timestamps"
   ]
  },
  {
   "cell_type": "code",
   "execution_count": 13,
   "metadata": {},
   "outputs": [
    {
     "data": {
      "text/html": [
       "<div><style>\n",
       ".dataframe > thead > tr,\n",
       ".dataframe > tbody > tr {\n",
       "  text-align: right;\n",
       "  white-space: pre-wrap;\n",
       "}\n",
       "</style>\n",
       "<small>shape: (6_319_171, 7)</small><table border=\"1\" class=\"dataframe\"><thead><tr><th>car_id</th><th>timestamp</th><th>latitude</th><th>longitude</th><th>notification</th><th>notification_time</th><th>distance</th></tr><tr><td>str</td><td>datetime[μs]</td><td>f64</td><td>f64</td><td>str</td><td>duration[μs]</td><td>f64</td></tr></thead><tbody><tr><td>&quot;car_0&quot;</td><td>2023-01-01 00:27:45.000288</td><td>23.733188</td><td>-94.23376</td><td>&quot;tire_pressure&quot;</td><td>0µs</td><td>0.0</td></tr><tr><td>&quot;car_0&quot;</td><td>2023-01-01 00:27:45.000288</td><td>23.733188</td><td>-94.23376</td><td>null</td><td>0µs</td><td>0.0</td></tr><tr><td>&quot;car_0&quot;</td><td>2023-01-01 00:00:05.000282</td><td>23.733188</td><td>-94.23376</td><td>&quot;low_fuel&quot;</td><td>-27m -40s -6µs</td><td>0.0</td></tr><tr><td>&quot;car_0&quot;</td><td>2023-01-01 00:11:23.000597</td><td>23.733188</td><td>-94.23376</td><td>&quot;low_fuel&quot;</td><td>11m 18s 315µs</td><td>1.233058</td></tr><tr><td>&quot;car_0&quot;</td><td>2023-01-01 00:11:23.000597</td><td>23.727644</td><td>-94.233698</td><td>&quot;engine_check&quot;</td><td>0µs</td><td>0.0</td></tr><tr><td>&hellip;</td><td>&hellip;</td><td>&hellip;</td><td>&hellip;</td><td>&hellip;</td><td>&hellip;</td><td>&hellip;</td></tr><tr><td>&quot;car_999&quot;</td><td>2023-01-08 00:01:36.000407</td><td>24.033558</td><td>-114.110391</td><td>&quot;engine_check&quot;</td><td>4s 999415µs</td><td>0.0</td></tr><tr><td>&quot;car_999&quot;</td><td>2023-01-08 00:01:43.000543</td><td>24.033558</td><td>-114.110391</td><td>&quot;low_fuel&quot;</td><td>7s 136µs</td><td>0.0</td></tr><tr><td>&quot;car_999&quot;</td><td>2023-01-08 00:01:51.000490</td><td>24.033558</td><td>-114.110391</td><td>&quot;low_fuel&quot;</td><td>7s 999947µs</td><td>0.0</td></tr><tr><td>&quot;car_999&quot;</td><td>2023-01-08 00:02:00.000103</td><td>24.033558</td><td>-114.110391</td><td>&quot;engine_check&quot;</td><td>8s 999613µs</td><td>0.0</td></tr><tr><td>&quot;car_999&quot;</td><td>2023-01-08 00:02:05.000458</td><td>24.033558</td><td>-114.110391</td><td>&quot;engine_check&quot;</td><td>5s 355µs</td><td>0.0</td></tr></tbody></table></div>"
      ],
      "text/plain": [
       "shape: (6_319_171, 7)\n",
       "┌─────────┬─────────────────┬───────────┬─────────────┬───────────────┬─────────────────┬──────────┐\n",
       "│ car_id  ┆ timestamp       ┆ latitude  ┆ longitude   ┆ notification  ┆ notification_ti ┆ distance │\n",
       "│ ---     ┆ ---             ┆ ---       ┆ ---         ┆ ---           ┆ me              ┆ ---      │\n",
       "│ str     ┆ datetime[μs]    ┆ f64       ┆ f64         ┆ str           ┆ ---             ┆ f64      │\n",
       "│         ┆                 ┆           ┆             ┆               ┆ duration[μs]    ┆          │\n",
       "╞═════════╪═════════════════╪═══════════╪═════════════╪═══════════════╪═════════════════╪══════════╡\n",
       "│ car_0   ┆ 2023-01-01      ┆ 23.733188 ┆ -94.23376   ┆ tire_pressure ┆ 0µs             ┆ 0.0      │\n",
       "│         ┆ 00:27:45.000288 ┆           ┆             ┆               ┆                 ┆          │\n",
       "│ car_0   ┆ 2023-01-01      ┆ 23.733188 ┆ -94.23376   ┆ null          ┆ 0µs             ┆ 0.0      │\n",
       "│         ┆ 00:27:45.000288 ┆           ┆             ┆               ┆                 ┆          │\n",
       "│ car_0   ┆ 2023-01-01      ┆ 23.733188 ┆ -94.23376   ┆ low_fuel      ┆ -27m -40s -6µs  ┆ 0.0      │\n",
       "│         ┆ 00:00:05.000282 ┆           ┆             ┆               ┆                 ┆          │\n",
       "│ car_0   ┆ 2023-01-01      ┆ 23.733188 ┆ -94.23376   ┆ low_fuel      ┆ 11m 18s 315µs   ┆ 1.233058 │\n",
       "│         ┆ 00:11:23.000597 ┆           ┆             ┆               ┆                 ┆          │\n",
       "│ car_0   ┆ 2023-01-01      ┆ 23.727644 ┆ -94.233698  ┆ engine_check  ┆ 0µs             ┆ 0.0      │\n",
       "│         ┆ 00:11:23.000597 ┆           ┆             ┆               ┆                 ┆          │\n",
       "│ …       ┆ …               ┆ …         ┆ …           ┆ …             ┆ …               ┆ …        │\n",
       "│ car_999 ┆ 2023-01-08      ┆ 24.033558 ┆ -114.110391 ┆ engine_check  ┆ 4s 999415µs     ┆ 0.0      │\n",
       "│         ┆ 00:01:36.000407 ┆           ┆             ┆               ┆                 ┆          │\n",
       "│ car_999 ┆ 2023-01-08      ┆ 24.033558 ┆ -114.110391 ┆ low_fuel      ┆ 7s 136µs        ┆ 0.0      │\n",
       "│         ┆ 00:01:43.000543 ┆           ┆             ┆               ┆                 ┆          │\n",
       "│ car_999 ┆ 2023-01-08      ┆ 24.033558 ┆ -114.110391 ┆ low_fuel      ┆ 7s 999947µs     ┆ 0.0      │\n",
       "│         ┆ 00:01:51.000490 ┆           ┆             ┆               ┆                 ┆          │\n",
       "│ car_999 ┆ 2023-01-08      ┆ 24.033558 ┆ -114.110391 ┆ engine_check  ┆ 8s 999613µs     ┆ 0.0      │\n",
       "│         ┆ 00:02:00.000103 ┆           ┆             ┆               ┆                 ┆          │\n",
       "│ car_999 ┆ 2023-01-08      ┆ 24.033558 ┆ -114.110391 ┆ engine_check  ┆ 5s 355µs        ┆ 0.0      │\n",
       "│         ┆ 00:02:05.000458 ┆           ┆             ┆               ┆                 ┆          │\n",
       "└─────────┴─────────────────┴───────────┴─────────────┴───────────────┴─────────────────┴──────────┘"
      ]
     },
     "execution_count": 13,
     "metadata": {},
     "output_type": "execute_result"
    }
   ],
   "source": [
    "data = data.with_columns([\n",
    "    pl.col(\"notification_time\").fill_null(pl.duration(microseconds=0)),\n",
    "    pl.col(\"distance\").fill_null(0.0)\n",
    "])\n",
    "data.collect()"
   ]
  },
  {
   "cell_type": "code",
   "execution_count": 14,
   "metadata": {},
   "outputs": [
    {
     "data": {
      "text/html": [
       "<div><style>\n",
       ".dataframe > thead > tr,\n",
       ".dataframe > tbody > tr {\n",
       "  text-align: right;\n",
       "  white-space: pre-wrap;\n",
       "}\n",
       "</style>\n",
       "<small>shape: (6_319_171, 7)</small><table border=\"1\" class=\"dataframe\"><thead><tr><th>car_id</th><th>timestamp</th><th>latitude</th><th>longitude</th><th>notification</th><th>notification_time</th><th>distance</th></tr><tr><td>str</td><td>datetime[μs]</td><td>f64</td><td>f64</td><td>str</td><td>duration[μs]</td><td>f64</td></tr></thead><tbody><tr><td>&quot;car_0&quot;</td><td>2023-01-01 00:27:45.000288</td><td>23.733188</td><td>-94.23376</td><td>&quot;tire_pressure&quot;</td><td>0µs</td><td>0.0</td></tr><tr><td>&quot;car_0&quot;</td><td>2023-01-01 00:27:45.000288</td><td>23.733188</td><td>-94.23376</td><td>null</td><td>0µs</td><td>0.0</td></tr><tr><td>&quot;car_0&quot;</td><td>2023-01-01 00:00:05.000282</td><td>23.733188</td><td>-94.23376</td><td>&quot;low_fuel&quot;</td><td>-27m -40s -6µs</td><td>0.0</td></tr><tr><td>&quot;car_0&quot;</td><td>2023-01-01 00:11:23.000597</td><td>23.733188</td><td>-94.23376</td><td>&quot;low_fuel&quot;</td><td>11m 18s 315µs</td><td>1.233058</td></tr><tr><td>&quot;car_0&quot;</td><td>2023-01-01 00:11:23.000597</td><td>23.727644</td><td>-94.233698</td><td>&quot;engine_check&quot;</td><td>0µs</td><td>0.0</td></tr><tr><td>&hellip;</td><td>&hellip;</td><td>&hellip;</td><td>&hellip;</td><td>&hellip;</td><td>&hellip;</td><td>&hellip;</td></tr><tr><td>&quot;car_999&quot;</td><td>2023-01-08 00:01:36.000407</td><td>24.033558</td><td>-114.110391</td><td>&quot;engine_check&quot;</td><td>4s 999415µs</td><td>0.0</td></tr><tr><td>&quot;car_999&quot;</td><td>2023-01-08 00:01:43.000543</td><td>24.033558</td><td>-114.110391</td><td>&quot;low_fuel&quot;</td><td>7s 136µs</td><td>0.0</td></tr><tr><td>&quot;car_999&quot;</td><td>2023-01-08 00:01:51.000490</td><td>24.033558</td><td>-114.110391</td><td>&quot;low_fuel&quot;</td><td>7s 999947µs</td><td>0.0</td></tr><tr><td>&quot;car_999&quot;</td><td>2023-01-08 00:02:00.000103</td><td>24.033558</td><td>-114.110391</td><td>&quot;engine_check&quot;</td><td>8s 999613µs</td><td>0.0</td></tr><tr><td>&quot;car_999&quot;</td><td>2023-01-08 00:02:05.000458</td><td>24.033558</td><td>-114.110391</td><td>&quot;engine_check&quot;</td><td>5s 355µs</td><td>0.0</td></tr></tbody></table></div>"
      ],
      "text/plain": [
       "shape: (6_319_171, 7)\n",
       "┌─────────┬─────────────────┬───────────┬─────────────┬───────────────┬─────────────────┬──────────┐\n",
       "│ car_id  ┆ timestamp       ┆ latitude  ┆ longitude   ┆ notification  ┆ notification_ti ┆ distance │\n",
       "│ ---     ┆ ---             ┆ ---       ┆ ---         ┆ ---           ┆ me              ┆ ---      │\n",
       "│ str     ┆ datetime[μs]    ┆ f64       ┆ f64         ┆ str           ┆ ---             ┆ f64      │\n",
       "│         ┆                 ┆           ┆             ┆               ┆ duration[μs]    ┆          │\n",
       "╞═════════╪═════════════════╪═══════════╪═════════════╪═══════════════╪═════════════════╪══════════╡\n",
       "│ car_0   ┆ 2023-01-01      ┆ 23.733188 ┆ -94.23376   ┆ tire_pressure ┆ 0µs             ┆ 0.0      │\n",
       "│         ┆ 00:27:45.000288 ┆           ┆             ┆               ┆                 ┆          │\n",
       "│ car_0   ┆ 2023-01-01      ┆ 23.733188 ┆ -94.23376   ┆ null          ┆ 0µs             ┆ 0.0      │\n",
       "│         ┆ 00:27:45.000288 ┆           ┆             ┆               ┆                 ┆          │\n",
       "│ car_0   ┆ 2023-01-01      ┆ 23.733188 ┆ -94.23376   ┆ low_fuel      ┆ -27m -40s -6µs  ┆ 0.0      │\n",
       "│         ┆ 00:00:05.000282 ┆           ┆             ┆               ┆                 ┆          │\n",
       "│ car_0   ┆ 2023-01-01      ┆ 23.733188 ┆ -94.23376   ┆ low_fuel      ┆ 11m 18s 315µs   ┆ 1.233058 │\n",
       "│         ┆ 00:11:23.000597 ┆           ┆             ┆               ┆                 ┆          │\n",
       "│ car_0   ┆ 2023-01-01      ┆ 23.727644 ┆ -94.233698  ┆ engine_check  ┆ 0µs             ┆ 0.0      │\n",
       "│         ┆ 00:11:23.000597 ┆           ┆             ┆               ┆                 ┆          │\n",
       "│ …       ┆ …               ┆ …         ┆ …           ┆ …             ┆ …               ┆ …        │\n",
       "│ car_999 ┆ 2023-01-08      ┆ 24.033558 ┆ -114.110391 ┆ engine_check  ┆ 4s 999415µs     ┆ 0.0      │\n",
       "│         ┆ 00:01:36.000407 ┆           ┆             ┆               ┆                 ┆          │\n",
       "│ car_999 ┆ 2023-01-08      ┆ 24.033558 ┆ -114.110391 ┆ low_fuel      ┆ 7s 136µs        ┆ 0.0      │\n",
       "│         ┆ 00:01:43.000543 ┆           ┆             ┆               ┆                 ┆          │\n",
       "│ car_999 ┆ 2023-01-08      ┆ 24.033558 ┆ -114.110391 ┆ low_fuel      ┆ 7s 999947µs     ┆ 0.0      │\n",
       "│         ┆ 00:01:51.000490 ┆           ┆             ┆               ┆                 ┆          │\n",
       "│ car_999 ┆ 2023-01-08      ┆ 24.033558 ┆ -114.110391 ┆ engine_check  ┆ 8s 999613µs     ┆ 0.0      │\n",
       "│         ┆ 00:02:00.000103 ┆           ┆             ┆               ┆                 ┆          │\n",
       "│ car_999 ┆ 2023-01-08      ┆ 24.033558 ┆ -114.110391 ┆ engine_check  ┆ 5s 355µs        ┆ 0.0      │\n",
       "│         ┆ 00:02:05.000458 ┆           ┆             ┆               ┆                 ┆          │\n",
       "└─────────┴─────────────────┴───────────┴─────────────┴───────────────┴─────────────────┴──────────┘"
      ]
     },
     "execution_count": 14,
     "metadata": {},
     "output_type": "execute_result"
    }
   ],
   "source": [
    "data.sort([\"car_id\", \"timestamp\"])\n",
    "data.collect()"
   ]
  },
  {
   "cell_type": "code",
   "execution_count": 15,
   "metadata": {},
   "outputs": [],
   "source": [
    "data = data.with_columns([\n",
    "    pl.col(\"timestamp\").fill_null(strategy=\"forward\").cast(pl.Datetime),\n",
    "    pl.col(\"notification_time\").fill_null(pl.duration(microseconds=0)),\n",
    "    pl.col(\"distance\").fill_null(0.0).cast(pl.Float64)\n",
    "]).sort([\"car_id\", \"timestamp\"]).collect() "
   ]
  },
  {
   "cell_type": "code",
   "execution_count": 16,
   "metadata": {},
   "outputs": [],
   "source": [
    "data = data.lazy()"
   ]
  },
  {
   "cell_type": "code",
   "execution_count": 17,
   "metadata": {},
   "outputs": [
    {
     "name": "stderr",
     "output_type": "stream",
     "text": [
      "/tmp/ipykernel_1284/2345657152.py:3: DeprecationWarning: The argument `by` for `LazyFrame.group_by_dynamic` is deprecated. It has been renamed to `group_by`.\n",
      "  .group_by_dynamic(\n"
     ]
    },
    {
     "data": {
      "text/html": [
       "<div><style>\n",
       ".dataframe > thead > tr,\n",
       ".dataframe > tbody > tr {\n",
       "  text-align: right;\n",
       "  white-space: pre-wrap;\n",
       "}\n",
       "</style>\n",
       "<small>shape: (1_311_315, 12)</small><table border=\"1\" class=\"dataframe\"><thead><tr><th>car_id</th><th>timestamp</th><th>mean_notification_time</th><th>median_notification_time</th><th>var_notification_time</th><th>max_notification_time</th><th>min_notification_time</th><th>mean_distance</th><th>median_distance</th><th>var_distance</th><th>max_distance</th><th>min_distance</th></tr><tr><td>str</td><td>datetime[μs]</td><td>duration[μs]</td><td>duration[μs]</td><td>duration[μs]</td><td>duration[μs]</td><td>duration[μs]</td><td>f64</td><td>f64</td><td>f64</td><td>f64</td><td>f64</td></tr></thead><tbody><tr><td>&quot;car_0&quot;</td><td>2023-01-01 00:00:00</td><td>-27m -40s -6µs</td><td>-27m -40s -6µs</td><td>null</td><td>-27m -40s -6µs</td><td>-27m -40s -6µs</td><td>0.0</td><td>0.0</td><td>null</td><td>0.0</td><td>0.0</td></tr><tr><td>&quot;car_0&quot;</td><td>2023-01-01 00:10:00</td><td>5m 39s 157µs</td><td>5m 39s 157µs</td><td>2660210d 19h 19m 30s 49600µs</td><td>11m 18s 315µs</td><td>0µs</td><td>0.616529</td><td>0.616529</td><td>0.760217</td><td>1.233058</td><td>0.0</td></tr><tr><td>&quot;car_0&quot;</td><td>2023-01-01 00:25:00</td><td>0µs</td><td>0µs</td><td>0µs</td><td>0µs</td><td>0µs</td><td>0.0</td><td>0.0</td><td>0.0</td><td>0.0</td><td>0.0</td></tr><tr><td>&quot;car_0&quot;</td><td>2023-01-01 00:30:00</td><td>-4m -22s -166690µs</td><td>-47s -238µs</td><td>2504122d 2h 42m 20s 9248µs</td><td>0µs</td><td>-19m -42s -58µs</td><td>0.438505</td><td>0.0</td><td>0.482176</td><td>1.542937</td><td>0.0</td></tr><tr><td>&quot;car_0&quot;</td><td>2023-01-01 00:35:00</td><td>-8m -59s -500435µs</td><td>-8m -59s -500435µs</td><td>866720d 14h 10m 57s 84464µs</td><td>-5m -46s -230µs</td><td>-12m -13s -641µs</td><td>0.0</td><td>0.0</td><td>0.0</td><td>0.0</td><td>0.0</td></tr><tr><td>&hellip;</td><td>&hellip;</td><td>&hellip;</td><td>&hellip;</td><td>&hellip;</td><td>&hellip;</td><td>&hellip;</td><td>&hellip;</td><td>&hellip;</td><td>&hellip;</td><td>&hellip;</td><td>&hellip;</td></tr><tr><td>&quot;car_999&quot;</td><td>2023-01-07 23:40:00</td><td>5s 545442µs</td><td>5s 423µs</td><td>76d 15h 38m 284834µs</td><td>9s 999702µs</td><td>1s 11µs</td><td>0.0</td><td>0.0</td><td>0.0</td><td>0.0</td><td>0.0</td></tr><tr><td>&quot;car_999&quot;</td><td>2023-01-07 23:45:00</td><td>14s 629643µs</td><td>6s 304µs</td><td>51865d 2h 11m 27s 560657µs</td><td>8m 17s 75µs</td><td>1s 36µs</td><td>0.021358</td><td>0.0</td><td>0.024634</td><td>1.153354</td><td>0.0</td></tr><tr><td>&quot;car_999&quot;</td><td>2023-01-07 23:50:00</td><td>5s 716977µs</td><td>5s 596µs</td><td>98d 23h 48m 14s 171256µs</td><td>9s 999835µs</td><td>0µs</td><td>0.0</td><td>0.0</td><td>0.0</td><td>0.0</td><td>0.0</td></tr><tr><td>&quot;car_999&quot;</td><td>2023-01-07 23:55:00</td><td>5s 83329µs</td><td>5s 12µs</td><td>69d 13h 20m 8s 95320µs</td><td>9s 999224µs</td><td>1s 183µs</td><td>0.0</td><td>0.0</td><td>0.0</td><td>0.0</td><td>0.0</td></tr><tr><td>&quot;car_999&quot;</td><td>2023-01-08 00:00:00</td><td>5s 250004µs</td><td>5s 306µs</td><td>92d 20h 13m 56s 982462µs</td><td>9s 999940µs</td><td>1s 33µs</td><td>0.0</td><td>0.0</td><td>0.0</td><td>0.0</td><td>0.0</td></tr></tbody></table></div>"
      ],
      "text/plain": [
       "shape: (1_311_315, 12)\n",
       "┌─────────┬────────────┬───────────┬───────────┬───┬───────────┬───────────┬───────────┬───────────┐\n",
       "│ car_id  ┆ timestamp  ┆ mean_noti ┆ median_no ┆ … ┆ median_di ┆ var_dista ┆ max_dista ┆ min_dista │\n",
       "│ ---     ┆ ---        ┆ fication_ ┆ tificatio ┆   ┆ stance    ┆ nce       ┆ nce       ┆ nce       │\n",
       "│ str     ┆ datetime[μ ┆ time      ┆ n_time    ┆   ┆ ---       ┆ ---       ┆ ---       ┆ ---       │\n",
       "│         ┆ s]         ┆ ---       ┆ ---       ┆   ┆ f64       ┆ f64       ┆ f64       ┆ f64       │\n",
       "│         ┆            ┆ duration[ ┆ duration[ ┆   ┆           ┆           ┆           ┆           │\n",
       "│         ┆            ┆ μs]       ┆ μs]       ┆   ┆           ┆           ┆           ┆           │\n",
       "╞═════════╪════════════╪═══════════╪═══════════╪═══╪═══════════╪═══════════╪═══════════╪═══════════╡\n",
       "│ car_0   ┆ 2023-01-01 ┆ -27m -40s ┆ -27m -40s ┆ … ┆ 0.0       ┆ null      ┆ 0.0       ┆ 0.0       │\n",
       "│         ┆ 00:00:00   ┆ -6µs      ┆ -6µs      ┆   ┆           ┆           ┆           ┆           │\n",
       "│ car_0   ┆ 2023-01-01 ┆ 5m 39s    ┆ 5m 39s    ┆ … ┆ 0.616529  ┆ 0.760217  ┆ 1.233058  ┆ 0.0       │\n",
       "│         ┆ 00:10:00   ┆ 157µs     ┆ 157µs     ┆   ┆           ┆           ┆           ┆           │\n",
       "│ car_0   ┆ 2023-01-01 ┆ 0µs       ┆ 0µs       ┆ … ┆ 0.0       ┆ 0.0       ┆ 0.0       ┆ 0.0       │\n",
       "│         ┆ 00:25:00   ┆           ┆           ┆   ┆           ┆           ┆           ┆           │\n",
       "│ car_0   ┆ 2023-01-01 ┆ -4m -22s  ┆ -47s      ┆ … ┆ 0.0       ┆ 0.482176  ┆ 1.542937  ┆ 0.0       │\n",
       "│         ┆ 00:30:00   ┆ -166690µs ┆ -238µs    ┆   ┆           ┆           ┆           ┆           │\n",
       "│ car_0   ┆ 2023-01-01 ┆ -8m -59s  ┆ -8m -59s  ┆ … ┆ 0.0       ┆ 0.0       ┆ 0.0       ┆ 0.0       │\n",
       "│         ┆ 00:35:00   ┆ -500435µs ┆ -500435µs ┆   ┆           ┆           ┆           ┆           │\n",
       "│ …       ┆ …          ┆ …         ┆ …         ┆ … ┆ …         ┆ …         ┆ …         ┆ …         │\n",
       "│ car_999 ┆ 2023-01-07 ┆ 5s        ┆ 5s 423µs  ┆ … ┆ 0.0       ┆ 0.0       ┆ 0.0       ┆ 0.0       │\n",
       "│         ┆ 23:40:00   ┆ 545442µs  ┆           ┆   ┆           ┆           ┆           ┆           │\n",
       "│ car_999 ┆ 2023-01-07 ┆ 14s       ┆ 6s 304µs  ┆ … ┆ 0.0       ┆ 0.024634  ┆ 1.153354  ┆ 0.0       │\n",
       "│         ┆ 23:45:00   ┆ 629643µs  ┆           ┆   ┆           ┆           ┆           ┆           │\n",
       "│ car_999 ┆ 2023-01-07 ┆ 5s        ┆ 5s 596µs  ┆ … ┆ 0.0       ┆ 0.0       ┆ 0.0       ┆ 0.0       │\n",
       "│         ┆ 23:50:00   ┆ 716977µs  ┆           ┆   ┆           ┆           ┆           ┆           │\n",
       "│ car_999 ┆ 2023-01-07 ┆ 5s        ┆ 5s 12µs   ┆ … ┆ 0.0       ┆ 0.0       ┆ 0.0       ┆ 0.0       │\n",
       "│         ┆ 23:55:00   ┆ 83329µs   ┆           ┆   ┆           ┆           ┆           ┆           │\n",
       "│ car_999 ┆ 2023-01-08 ┆ 5s        ┆ 5s 306µs  ┆ … ┆ 0.0       ┆ 0.0       ┆ 0.0       ┆ 0.0       │\n",
       "│         ┆ 00:00:00   ┆ 250004µs  ┆           ┆   ┆           ┆           ┆           ┆           │\n",
       "└─────────┴────────────┴───────────┴───────────┴───┴───────────┴───────────┴───────────┴───────────┘"
      ]
     },
     "execution_count": 17,
     "metadata": {},
     "output_type": "execute_result"
    }
   ],
   "source": [
    "x_minutes = 5\n",
    "data_aggregated = (data\n",
    "    .group_by_dynamic(\n",
    "        index_column=\"timestamp\",\n",
    "        every=f\"{x_minutes}m\",\n",
    "        by=\"car_id\"\n",
    "    )\n",
    "    .agg([\n",
    "        pl.col(\"notification_time\").mean().alias(\"mean_notification_time\"),\n",
    "        pl.col(\"notification_time\").median().alias(\"median_notification_time\"),\n",
    "        pl.col(\"notification_time\").var().alias(\"var_notification_time\"),\n",
    "        pl.col(\"notification_time\").max().alias(\"max_notification_time\"),\n",
    "        pl.col(\"notification_time\").min().alias(\"min_notification_time\"),\n",
    "        pl.col(\"distance\").mean().alias(\"mean_distance\"),\n",
    "        pl.col(\"distance\").median().alias(\"median_distance\"),\n",
    "        pl.col(\"distance\").var().alias(\"var_distance\"),\n",
    "        pl.col(\"distance\").max().alias(\"max_distance\"),\n",
    "        pl.col(\"distance\").min().alias(\"min_distance\"),\n",
    "    ])\n",
    ")\n",
    "\n",
    "# Collect and display results\n",
    "result = data_aggregated.collect()\n",
    "result"
   ]
  },
  {
   "cell_type": "code",
   "execution_count": null,
   "metadata": {},
   "outputs": [],
   "source": []
  }
 ],
 "metadata": {
  "kernelspec": {
   "display_name": "Python 3",
   "language": "python",
   "name": "python3"
  },
  "language_info": {
   "codemirror_mode": {
    "name": "ipython",
    "version": 3
   },
   "file_extension": ".py",
   "mimetype": "text/x-python",
   "name": "python",
   "nbconvert_exporter": "python",
   "pygments_lexer": "ipython3",
   "version": "3.12.6"
  }
 },
 "nbformat": 4,
 "nbformat_minor": 2
}
