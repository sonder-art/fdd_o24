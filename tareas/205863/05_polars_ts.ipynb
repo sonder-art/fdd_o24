{
 "cells": [
  {
   "cell_type": "code",
   "execution_count": 1,
   "metadata": {},
   "outputs": [],
   "source": [
    "import polars as pl\n",
    "import numpy as np\n",
    "import random\n",
    "from datetime import datetime, timedelta"
   ]
  },
  {
   "cell_type": "markdown",
   "metadata": {},
   "source": [
    "# Descripcion"
   ]
  },
  {
   "cell_type": "markdown",
   "metadata": {},
   "source": [
    "Los datos son notificaciones de dispositivos GPS en Mexico. En promedio generan notificaciones automatizadas cada 5 minutos si el carro esta encendido, y 30 si esta apagado.  \n",
    "\n",
    "Cada notificacion esta acompannada de un evento de lo que esta ocurriendo, y trae la latitud y longitud.  \n",
    "\n",
    "El objetico es predecir si un vehiculo esta siendo robado de acuerdo a sus notificaciones, por lo que el primer paso seria limpiar datos y hacer ingenieria de variables.\n",
    "\n",
    "Trata de hacerlo **lazy** si puedes."
   ]
  },
  {
   "cell_type": "code",
   "execution_count": 2,
   "metadata": {},
   "outputs": [],
   "source": [
    "def generate_dummy_data(num_cars, start_time, end_time, working_hours_interval, non_working_hours_interval):\n",
    "    data = []\n",
    "\n",
    "    # Define the latitude and longitude ranges for Mexico\n",
    "    min_latitude, max_latitude = 14.5388, 32.7186\n",
    "    min_longitude, max_longitude = -118.4662, -86.7104\n",
    "\n",
    "    for car_id in range(num_cars):\n",
    "        current_time = start_time\n",
    "\n",
    "        # Generate random initial latitude and longitude for each car\n",
    "        latitude = random.uniform(min_latitude, max_latitude)\n",
    "        longitude = random.uniform(min_longitude, max_longitude)\n",
    "\n",
    "        while current_time < end_time:\n",
    "            if current_time.weekday() < 5 and 9 <= current_time.hour < 17:\n",
    "                # Working hours (Monday to Friday, 9 AM to 5 PM)\n",
    "                interval = working_hours_interval\n",
    "            else:\n",
    "                # Non-working hours\n",
    "                interval = non_working_hours_interval\n",
    "\n",
    "            # Generate notification with 99% probability\n",
    "            if random.random() < 0.99:\n",
    "                notification = random.choice([\"low_fuel\", \"tire_pressure\", \"engine_check\", None])\n",
    "                data.append((f\"car_{car_id}\", current_time.isoformat(), latitude, longitude, notification))\n",
    "\n",
    "            # Generate additional notifications between intervals\n",
    "            while True:\n",
    "                additional_interval = random.expovariate(1 / (interval / 2))\n",
    "                additional_time = current_time + timedelta(minutes=additional_interval)\n",
    "                if additional_time >= current_time + timedelta(minutes=interval):\n",
    "                    break\n",
    "                notification = random.choice([\"low_fuel\", \"tire_pressure\", \"engine_check\", None])\n",
    "                data.append((f\"car_{car_id}\", additional_time.isoformat(), latitude, longitude, notification))\n",
    "\n",
    "            # Update latitude and longitude for car movement\n",
    "            latitude += random.uniform(-0.01, 0.01)\n",
    "            longitude += random.uniform(-0.01, 0.01)\n",
    "\n",
    "            # Check if the car is among the 1% that can have 100 notifications within 5 minutes\n",
    "            if random.random() < 0.01:\n",
    "                burst_start_time = current_time + timedelta(minutes=random.uniform(0, interval))\n",
    "                burst_end_time = burst_start_time + timedelta(minutes=5)\n",
    "                while current_time < burst_end_time:\n",
    "                    notification = random.choice([\"low_fuel\", \"tire_pressure\", \"engine_check\", None])\n",
    "                    data.append((f\"car_{car_id}\", current_time.isoformat(), latitude, longitude, notification))\n",
    "                    current_time += timedelta(seconds=random.uniform(1, 10))\n",
    "\n",
    "            current_time += timedelta(minutes=interval)\n",
    "\n",
    "    # Create a Polars DataFrame from the generated data\n",
    "    df = pl.DataFrame(\n",
    "        {\n",
    "            \"car_id\": [record[0] for record in data],\n",
    "            \"timestamp\": [record[1] for record in data],\n",
    "            \"latitude\": [record[2] for record in data],\n",
    "            \"longitude\": [record[3] for record in data],\n",
    "            \"notification\": [record[4] for record in data],\n",
    "        }\n",
    "    )\n",
    "\n",
    "    return df.lazy()"
   ]
  },
  {
   "cell_type": "code",
   "execution_count": 3,
   "metadata": {},
   "outputs": [
    {
     "name": "stdout",
     "output_type": "stream",
     "text": [
      "naive plan: (run LazyFrame.explain(optimized=True) to see the optimized plan)\n",
      "\n",
      "SLICE[offset: 0, len: 5]\n",
      "  DF [\"car_id\", \"timestamp\", \"latitude\", \"longitude\"]; PROJECT */5 COLUMNS; SELECTION: None\n"
     ]
    }
   ],
   "source": [
    "num_cars = 1000\n",
    "start_time = datetime(2023, 1, 1, 0, 0, 0)  # Start of the week\n",
    "end_time = start_time + timedelta(weeks=1)  # End of the week\n",
    "working_hours_interval = 5  # Interval of 5 minutes during working hours\n",
    "non_working_hours_interval = 30  # Interval of 30 minutes during non-working hours\n",
    "\n",
    "# Generate the dummy data\n",
    "data = generate_dummy_data(num_cars, start_time, end_time, working_hours_interval, non_working_hours_interval)\n",
    "\n",
    "# Print the first few rows of the generated data\n",
    "print(data.head())"
   ]
  },
  {
   "cell_type": "markdown",
   "metadata": {},
   "source": [
    "## Limpieza de datos"
   ]
  },
  {
   "cell_type": "markdown",
   "metadata": {},
   "source": [
    "### Timestamp"
   ]
  },
  {
   "cell_type": "markdown",
   "metadata": {},
   "source": [
    "Convierte el `timestamp` que actualmente es string a formato de tiempo en polars"
   ]
  },
  {
   "cell_type": "code",
   "execution_count": 4,
   "metadata": {},
   "outputs": [
    {
     "name": "stdout",
     "output_type": "stream",
     "text": [
      "shape: (6_287_430, 5)\n",
      "┌─────────┬────────────────────────────┬───────────┬─────────────┬───────────────┐\n",
      "│ car_id  ┆ timestamp                  ┆ latitude  ┆ longitude   ┆ notification  │\n",
      "│ ---     ┆ ---                        ┆ ---       ┆ ---         ┆ ---           │\n",
      "│ str     ┆ str                        ┆ f64       ┆ f64         ┆ str           │\n",
      "╞═════════╪════════════════════════════╪═══════════╪═════════════╪═══════════════╡\n",
      "│ car_0   ┆ 2023-01-01T00:00:00        ┆ 18.14631  ┆ -94.794521  ┆ tire_pressure │\n",
      "│ car_0   ┆ 2023-01-01T00:02:21.273346 ┆ 18.14631  ┆ -94.794521  ┆ null          │\n",
      "│ car_0   ┆ 2023-01-01T00:12:53.361581 ┆ 18.14631  ┆ -94.794521  ┆ engine_check  │\n",
      "│ car_0   ┆ 2023-01-01T00:11:04.827178 ┆ 18.14631  ┆ -94.794521  ┆ tire_pressure │\n",
      "│ car_0   ┆ 2023-01-01T00:00:46.171553 ┆ 18.14631  ┆ -94.794521  ┆ engine_check  │\n",
      "│ …       ┆ …                          ┆ …         ┆ …           ┆ …             │\n",
      "│ car_999 ┆ 2023-01-07T23:28:03.738720 ┆ 28.798342 ┆ -114.705792 ┆ tire_pressure │\n",
      "│ car_999 ┆ 2023-01-07T23:23:25.837877 ┆ 28.798342 ┆ -114.705792 ┆ tire_pressure │\n",
      "│ car_999 ┆ 2023-01-07T23:44:56.854282 ┆ 28.802843 ┆ -114.707076 ┆ tire_pressure │\n",
      "│ car_999 ┆ 2023-01-07T23:49:43.315336 ┆ 28.802843 ┆ -114.707076 ┆ tire_pressure │\n",
      "│ car_999 ┆ 2023-01-07T23:59:02.318339 ┆ 28.802843 ┆ -114.707076 ┆ tire_pressure │\n",
      "└─────────┴────────────────────────────┴───────────┴─────────────┴───────────────┘\n"
     ]
    }
   ],
   "source": [
    "\n",
    "d2 = data\n",
    "print(d2.collect())\n"
   ]
  },
  {
   "cell_type": "code",
   "execution_count": 5,
   "metadata": {},
   "outputs": [
    {
     "name": "stderr",
     "output_type": "stream",
     "text": [
      "/var/folders/tl/d786gk2904gf5nsvpr28ss000000gn/T/ipykernel_35948/1458397175.py:11: ChronoFormatWarning: Detected the pattern `.%f` in the chrono format string. This pattern should not be used to parse values after a decimal point. Use `%.f` instead. See the full specification: https://docs.rs/chrono/latest/chrono/format/strftime\n",
      "  pl.col(\"timestamp\").str.strptime(pl.Datetime, \"%Y-%m-%dT%H:%M:%S.%f\", strict=True).alias(\"timestamp\")\n"
     ]
    }
   ],
   "source": [
    "d2 = d2.with_columns(\n",
    "    pl.when(pl.col(\"timestamp\").str.contains(r\"\\.\"))\n",
    "    .then(pl.col(\"timestamp\"))\n",
    "    .otherwise(pl.col(\"timestamp\") + \".000000\")\n",
    "    .alias(\"timestamp\")\n",
    ")\n",
    "#Al no tener todos los valores de la columna timestamps en el mismo formato\n",
    "#aplicamos el código dearriba para poner todos los segundos sin fracción o decimal para cambiar el tipo\n",
    "\n",
    "d2 = d2.with_columns(\n",
    "    pl.col(\"timestamp\").str.strptime(pl.Datetime, \"%Y-%m-%dT%H:%M:%S.%f\", strict=True).alias(\"timestamp\")\n",
    ")\n",
    "\n",
    "\n"
   ]
  },
  {
   "cell_type": "code",
   "execution_count": 6,
   "metadata": {},
   "outputs": [
    {
     "data": {
      "text/html": [
       "<div><style>\n",
       ".dataframe > thead > tr,\n",
       ".dataframe > tbody > tr {\n",
       "  text-align: right;\n",
       "  white-space: pre-wrap;\n",
       "}\n",
       "</style>\n",
       "<small>shape: (6_287_430, 5)</small><table border=\"1\" class=\"dataframe\"><thead><tr><th>car_id</th><th>timestamp</th><th>latitude</th><th>longitude</th><th>notification</th></tr><tr><td>str</td><td>datetime[μs]</td><td>f64</td><td>f64</td><td>str</td></tr></thead><tbody><tr><td>&quot;car_0&quot;</td><td>2023-01-01 00:00:00</td><td>18.14631</td><td>-94.794521</td><td>&quot;tire_pressure&quot;</td></tr><tr><td>&quot;car_0&quot;</td><td>2023-01-01 00:02:21.000273</td><td>18.14631</td><td>-94.794521</td><td>null</td></tr><tr><td>&quot;car_0&quot;</td><td>2023-01-01 00:12:53.000361</td><td>18.14631</td><td>-94.794521</td><td>&quot;engine_check&quot;</td></tr><tr><td>&quot;car_0&quot;</td><td>2023-01-01 00:11:04.000827</td><td>18.14631</td><td>-94.794521</td><td>&quot;tire_pressure&quot;</td></tr><tr><td>&quot;car_0&quot;</td><td>2023-01-01 00:00:46.000171</td><td>18.14631</td><td>-94.794521</td><td>&quot;engine_check&quot;</td></tr><tr><td>&hellip;</td><td>&hellip;</td><td>&hellip;</td><td>&hellip;</td><td>&hellip;</td></tr><tr><td>&quot;car_999&quot;</td><td>2023-01-07 23:28:03.000738</td><td>28.798342</td><td>-114.705792</td><td>&quot;tire_pressure&quot;</td></tr><tr><td>&quot;car_999&quot;</td><td>2023-01-07 23:23:25.000837</td><td>28.798342</td><td>-114.705792</td><td>&quot;tire_pressure&quot;</td></tr><tr><td>&quot;car_999&quot;</td><td>2023-01-07 23:44:56.000854</td><td>28.802843</td><td>-114.707076</td><td>&quot;tire_pressure&quot;</td></tr><tr><td>&quot;car_999&quot;</td><td>2023-01-07 23:49:43.000315</td><td>28.802843</td><td>-114.707076</td><td>&quot;tire_pressure&quot;</td></tr><tr><td>&quot;car_999&quot;</td><td>2023-01-07 23:59:02.000318</td><td>28.802843</td><td>-114.707076</td><td>&quot;tire_pressure&quot;</td></tr></tbody></table></div>"
      ],
      "text/plain": [
       "shape: (6_287_430, 5)\n",
       "┌─────────┬────────────────────────────┬───────────┬─────────────┬───────────────┐\n",
       "│ car_id  ┆ timestamp                  ┆ latitude  ┆ longitude   ┆ notification  │\n",
       "│ ---     ┆ ---                        ┆ ---       ┆ ---         ┆ ---           │\n",
       "│ str     ┆ datetime[μs]               ┆ f64       ┆ f64         ┆ str           │\n",
       "╞═════════╪════════════════════════════╪═══════════╪═════════════╪═══════════════╡\n",
       "│ car_0   ┆ 2023-01-01 00:00:00        ┆ 18.14631  ┆ -94.794521  ┆ tire_pressure │\n",
       "│ car_0   ┆ 2023-01-01 00:02:21.000273 ┆ 18.14631  ┆ -94.794521  ┆ null          │\n",
       "│ car_0   ┆ 2023-01-01 00:12:53.000361 ┆ 18.14631  ┆ -94.794521  ┆ engine_check  │\n",
       "│ car_0   ┆ 2023-01-01 00:11:04.000827 ┆ 18.14631  ┆ -94.794521  ┆ tire_pressure │\n",
       "│ car_0   ┆ 2023-01-01 00:00:46.000171 ┆ 18.14631  ┆ -94.794521  ┆ engine_check  │\n",
       "│ …       ┆ …                          ┆ …         ┆ …           ┆ …             │\n",
       "│ car_999 ┆ 2023-01-07 23:28:03.000738 ┆ 28.798342 ┆ -114.705792 ┆ tire_pressure │\n",
       "│ car_999 ┆ 2023-01-07 23:23:25.000837 ┆ 28.798342 ┆ -114.705792 ┆ tire_pressure │\n",
       "│ car_999 ┆ 2023-01-07 23:44:56.000854 ┆ 28.802843 ┆ -114.707076 ┆ tire_pressure │\n",
       "│ car_999 ┆ 2023-01-07 23:49:43.000315 ┆ 28.802843 ┆ -114.707076 ┆ tire_pressure │\n",
       "│ car_999 ┆ 2023-01-07 23:59:02.000318 ┆ 28.802843 ┆ -114.707076 ┆ tire_pressure │\n",
       "└─────────┴────────────────────────────┴───────────┴─────────────┴───────────────┘"
      ]
     },
     "execution_count": 6,
     "metadata": {},
     "output_type": "execute_result"
    }
   ],
   "source": [
    "\n",
    "d2.collect()"
   ]
  },
  {
   "cell_type": "markdown",
   "metadata": {},
   "source": [
    "### Ingenieria de variables"
   ]
  },
  {
   "cell_type": "markdown",
   "metadata": {},
   "source": [
    "Dado que va a entrar a un modelo de machine learning es encesario que todas las variables sean numericas, y esten en formnato tidy. Cada observacion en una fila, y cada variable en una columna. Por lo tanto se decidio crear estadisticos y agregar los datos a intervalos uniformes de `x` minutos.  \n",
    "\n",
    "Por ejemplo, colapsar toda la informacion que ocurrion en el intervalo, como el numero de notificaciones en esos 5 minutos, el promedio entre notificaciones, y el tipo de notificaciones."
   ]
  },
  {
   "cell_type": "markdown",
   "metadata": {},
   "source": [
    "Existen varias formas de hacer esto, puedes hacerlo con `group_by` primero para crear las nuevas variables, o `group_by` (`rolling`, `dynamic`) usando operaciones sobre listas. Utiliza claude o chat_gpt"
   ]
  },
  {
   "cell_type": "markdown",
   "metadata": {},
   "source": [
    "1. Crea una nueva variable que compute la diferencia de tiempo entre notificaciones del mismo vehiculo. Piensa como lo vas a hacer. Llama a esta variable `notification_time`\n",
    "   \n"
   ]
  },
  {
   "cell_type": "code",
   "execution_count": 7,
   "metadata": {},
   "outputs": [],
   "source": [
    "\n",
    "df_aux = d2.group_by(\"car_id\").agg(\n",
    "          pl.col(\"timestamp\")\n",
    "          .sort_by(\"timestamp\")\n",
    "          .diff()\n",
    "          .alias(\"notif_time\")\n",
    "      )\n",
    "d2 = d2.join(df_aux, on=\"car_id\", how=\"left\")\n"
   ]
  },
  {
   "cell_type": "code",
   "execution_count": 8,
   "metadata": {},
   "outputs": [
    {
     "name": "stdout",
     "output_type": "stream",
     "text": [
      "shape: (1_000, 2)\n",
      "┌─────────┬─────────────────────────────────┐\n",
      "│ car_id  ┆ notif_time                      │\n",
      "│ ---     ┆ ---                             │\n",
      "│ str     ┆ list[duration[μs]]              │\n",
      "╞═════════╪═════════════════════════════════╡\n",
      "│ car_938 ┆ [null, 4s 621µs, … 5m 52s 9994… │\n",
      "│ car_969 ┆ [null, 2m 11s 831µs, … 2m 23s … │\n",
      "│ car_901 ┆ [null, 9m 36s 516µs, … 4m 10s … │\n",
      "│ car_702 ┆ [null, 1m 35s 878µs, … 9m 5s 1… │\n",
      "│ car_634 ┆ [null, 5m 29s 314µs, … 4m 15s … │\n",
      "│ …       ┆ …                               │\n",
      "│ car_896 ┆ [null, 57s 974µs, … 11m 35s 25… │\n",
      "│ car_81  ┆ [null, 48s 11µs, … 34s 999447µ… │\n",
      "│ car_935 ┆ [null, 30m, … 20m 19s 999503µs… │\n",
      "│ car_863 ┆ [null, 5m 3s 171µs, … 53s 9992… │\n",
      "│ car_130 ┆ [null, 6m 48s 559µs, … 1m 19s … │\n",
      "└─────────┴─────────────────────────────────┘\n"
     ]
    }
   ],
   "source": [
    "print(df_aux.collect())"
   ]
  },
  {
   "cell_type": "markdown",
   "metadata": {},
   "source": [
    "2. Crea una nueva variable que compute la distancia que viajo el vehiculo desde la ultima notificacion. Llamala `distance`"
   ]
  },
  {
   "cell_type": "code",
   "execution_count": 9,
   "metadata": {},
   "outputs": [],
   "source": [
    "#Funcion auxiliar para calcular la distancia con latitud y longitud\n",
    "import math\n",
    "def haversine(lat1, lon1, lat2, lon2):\n",
    "    # Convertir las coordenadas de grados a radianes\n",
    "    lat1, lon1, lat2, lon2 = map(math.radians, [lat1, lon1, lat2, lon2])\n",
    "    \n",
    "    # Diferencias\n",
    "    dlat = lat2 - lat1\n",
    "    dlon = lon2 - lon1\n",
    "    \n",
    "    # Haversine formula\n",
    "    a = math.sin(dlat / 2)**2 + math.cos(lat1) * math.cos(lat2) * math.sin(dlon / 2)**2\n",
    "    c = 2 * math.atan2(math.sqrt(a), math.sqrt(1 - a))\n",
    "    \n",
    "    # Radio de la Tierra (en kilómetros)\n",
    "    R = 6371.0\n",
    "    \n",
    "    # Distancia en kilómetros\n",
    "    distance = R * c\n",
    "    return distance"
   ]
  },
  {
   "cell_type": "code",
   "execution_count": 10,
   "metadata": {},
   "outputs": [],
   "source": [
    "d2 = (\n",
    "    d2\n",
    "    .sort([\"car_id\", \"timestamp\"])  # Ordenar por vehículo y tiempo\n",
    "    .with_columns(\n",
    "        pl.col(\"latitude\").shift(1).over(\"car_id\").alias(\"prev_latitude\"),  # Latitud previa\n",
    "        pl.col(\"longitude\").shift(1).over(\"car_id\").alias(\"prev_longitude\")  # Longitud previa\n",
    "    )\n",
    "    .with_columns(\n",
    "        pl.struct([\"latitude\", \"longitude\", \"prev_latitude\", \"prev_longitude\"]).map_elements(\n",
    "            lambda row: haversine(\n",
    "                row[\"latitude\"], row[\"longitude\"], row[\"prev_latitude\"], row[\"prev_longitude\"]\n",
    "            ) if row[\"prev_latitude\"] is not None else None\n",
    "        , return_dtype=pl.Float64).alias(\"distance\")\n",
    "    )\n",
    "    .drop([\"prev_latitude\", \"prev_longitude\"])\n",
    ")\n"
   ]
  },
  {
   "cell_type": "markdown",
   "metadata": {},
   "source": [
    "3. Crea intervalos de `x` minutos por carro. Como el numero de notificaciones en esos intervalos no es uniforme tienes que buscar funciones de polars especificas, pero ademas tienen que ser por vehiculo, pues tienen que ser del mismo. Revisa las funciones de `group_by` `dynamic` y `rolling`.\n",
    "   1. Computa la media, mediana, varianza, max y min de `notification_time` los intervalos de `x` minutos\n",
    "   2. Computa la media, mediana, varianza, max y min de `distance`\n"
   ]
  },
  {
   "cell_type": "code",
   "execution_count": 22,
   "metadata": {},
   "outputs": [
    {
     "name": "stderr",
     "output_type": "stream",
     "text": [
      "/var/folders/tl/d786gk2904gf5nsvpr28ss000000gn/T/ipykernel_35948/3383310550.py:6: DeprecationWarning: The argument `by` for `LazyFrame.group_by_dynamic` is deprecated. It has been renamed to `group_by`.\n",
      "  .group_by_dynamic(\n"
     ]
    }
   ],
   "source": [
    "x = 55\n",
    "df_intervals = data.clone()\n",
    "df_intervals = (\n",
    "    df_intervals\n",
    "    .sort([\"car_id\", \"timestamp\"])\n",
    "    .group_by_dynamic(\n",
    "        index_column=\"timestamp\",\n",
    "        every=f\"{x}m\",\n",
    "        by=\"car_id\",\n",
    "        include_boundaries=True\n",
    "    )\n",
    "    .agg([\n",
    "        pl.col(\"notification_time\").mean().alias(\"mean_notification_time\"),\n",
    "        pl.col(\"notification_time\").median().alias(\"median_notification_time\"),\n",
    "        pl.col(\"notification_time\").var().alias(\"variance_notification_time\"),\n",
    "        pl.col(\"notification_time\").max().alias(\"max_notification_time\"),\n",
    "        pl.col(\"notification_time\").min().alias(\"min_notification_time\"),\n",
    "        pl.col(\"distance\").mean().alias(\"mean_distance\"),\n",
    "        pl.col(\"distance\").median().alias(\"median_distance\"),\n",
    "        pl.col(\"distance\").var().alias(\"variance_distance\"),\n",
    "        pl.col(\"distance\").max().alias(\"max_distance\"),\n",
    "        pl.col(\"distance\").min().alias(\"min_distance\"),\n",
    "    ])\n",
    ")\n"
   ]
  }
 ],
 "metadata": {
  "kernelspec": {
   "display_name": "itam",
   "language": "python",
   "name": "python3"
  },
  "language_info": {
   "codemirror_mode": {
    "name": "ipython",
    "version": 3
   },
   "file_extension": ".py",
   "mimetype": "text/x-python",
   "name": "python",
   "nbconvert_exporter": "python",
   "pygments_lexer": "ipython3",
   "version": "3.12.2"
  }
 },
 "nbformat": 4,
 "nbformat_minor": 2
}
